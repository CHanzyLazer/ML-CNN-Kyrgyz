{
 "cells": [
  {
   "cell_type": "markdown",
   "source": [
    "数据读取，注意图像的文件夹默认名称为 dataset"
   ],
   "metadata": {
    "collapsed": false
   }
  },
  {
   "cell_type": "code",
   "execution_count": 1,
   "outputs": [
    {
     "name": "stdout",
     "output_type": "stream",
     "text": [
      "25.88654899597168\n"
     ]
    }
   ],
   "source": [
    "from data import DataKyrgyz\n",
    "from time import  time\n",
    "\n",
    "begin = time()\n",
    "\n",
    "DATA = DataKyrgyz('dataset')\n",
    "\n",
    "# 获取数据\n",
    "x_train, y_train = DATA.get_train_data()\n",
    "x_test, y_test = DATA.get_test_data()\n",
    "\n",
    "dtime = time() - begin\n",
    "print(dtime)"
   ],
   "metadata": {
    "collapsed": false,
    "ExecuteTime": {
     "end_time": "2023-09-12T09:19:52.994323800Z",
     "start_time": "2023-09-12T09:19:26.847332900Z"
    }
   }
  },
  {
   "cell_type": "markdown",
   "source": [
    "得到一个可用的模型"
   ],
   "metadata": {
    "collapsed": false
   }
  },
  {
   "cell_type": "code",
   "execution_count": 2,
   "outputs": [
    {
     "name": "stdout",
     "output_type": "stream",
     "text": [
      "Epoch 1/24\n",
      "1947/1947 [==============================] - 16s 6ms/step - loss: 0.6423 - lr: 0.1000\n",
      "Epoch 2/24\n",
      "1947/1947 [==============================] - 11s 6ms/step - loss: 0.2483 - lr: 0.1000\n",
      "Epoch 3/24\n",
      "1947/1947 [==============================] - 11s 6ms/step - loss: 0.1779 - lr: 0.1000\n",
      "Epoch 4/24\n",
      "1947/1947 [==============================] - 11s 6ms/step - loss: 0.1378 - lr: 0.1000\n",
      "Epoch 5/24\n",
      "1947/1947 [==============================] - 11s 6ms/step - loss: 0.0972 - lr: 0.0800\n",
      "Epoch 6/24\n",
      "1947/1947 [==============================] - 11s 6ms/step - loss: 0.0702 - lr: 0.0667\n",
      "Epoch 7/24\n",
      "1947/1947 [==============================] - 11s 6ms/step - loss: 0.0483 - lr: 0.0571\n",
      "Epoch 8/24\n",
      "1947/1947 [==============================] - 11s 6ms/step - loss: 0.0346 - lr: 0.0500\n",
      "Epoch 9/24\n",
      "1947/1947 [==============================] - 11s 6ms/step - loss: 0.0243 - lr: 0.0444\n",
      "Epoch 10/24\n",
      "1947/1947 [==============================] - 11s 6ms/step - loss: 0.0169 - lr: 0.0400\n",
      "Epoch 11/24\n",
      "1947/1947 [==============================] - 11s 6ms/step - loss: 0.0122 - lr: 0.0364\n",
      "Epoch 12/24\n",
      "1947/1947 [==============================] - 11s 5ms/step - loss: 0.0084 - lr: 0.0333\n",
      "Epoch 13/24\n",
      "1947/1947 [==============================] - 10s 5ms/step - loss: 0.0062 - lr: 0.0308\n",
      "Epoch 14/24\n",
      "1947/1947 [==============================] - 11s 6ms/step - loss: 0.0053 - lr: 0.0286\n",
      "Epoch 15/24\n",
      "1947/1947 [==============================] - 10s 5ms/step - loss: 0.0041 - lr: 0.0267\n",
      "Epoch 16/24\n",
      "1947/1947 [==============================] - 10s 5ms/step - loss: 0.0035 - lr: 0.0250\n",
      "Epoch 17/24\n",
      "1947/1947 [==============================] - 10s 5ms/step - loss: 0.0033 - lr: 0.0235\n",
      "Epoch 18/24\n",
      "1947/1947 [==============================] - 10s 5ms/step - loss: 0.0030 - lr: 0.0222\n",
      "Epoch 19/24\n",
      "1947/1947 [==============================] - 10s 5ms/step - loss: 0.0024 - lr: 0.0211\n",
      "Epoch 20/24\n",
      "1947/1947 [==============================] - 10s 5ms/step - loss: 0.0023 - lr: 0.0200\n",
      "Epoch 21/24\n",
      "1947/1947 [==============================] - 10s 5ms/step - loss: 0.0022 - lr: 0.0190\n",
      "Epoch 22/24\n",
      "1947/1947 [==============================] - 10s 5ms/step - loss: 0.0021 - lr: 0.0182\n",
      "Epoch 23/24\n",
      "1947/1947 [==============================] - 10s 5ms/step - loss: 0.0019 - lr: 0.0174\n",
      "Epoch 24/24\n",
      "1947/1947 [==============================] - 10s 5ms/step - loss: 0.0018 - lr: 0.0167\n"
     ]
    }
   ],
   "source": [
    "from model import *\n",
    "model_BN = get_model(dropout=False, BN=True)\n",
    "model_BN.compile(loss='categorical_crossentropy', optimizer='sgd')\n",
    "\n",
    "# 学习率策略\n",
    "def lr_scheduler(epoch):\n",
    "    if epoch < 4: return 0.1\n",
    "    return 0.4 / (epoch + 1)\n",
    "lr_callback = keras.callbacks.LearningRateScheduler(lr_scheduler)\n",
    "\n",
    "# 训练\n",
    "_ = model_BN.fit(x_train, y_train, epochs=24, batch_size=32, callbacks=[lr_callback])"
   ],
   "metadata": {
    "collapsed": false,
    "ExecuteTime": {
     "end_time": "2023-09-12T09:24:52.445852500Z",
     "start_time": "2023-09-12T09:20:25.704802800Z"
    }
   }
  },
  {
   "cell_type": "markdown",
   "source": [
    "使用给定模型作为分类器，并且保存"
   ],
   "metadata": {
    "collapsed": false
   }
  },
  {
   "cell_type": "code",
   "execution_count": 3,
   "outputs": [],
   "source": [
    "from classifier_draw import ClassifierDraw\n",
    "\n",
    "window = ClassifierDraw(model_BN, DATA.get_label_list(), DATA.image_process)\n",
    "window.save()\n",
    "window.show()"
   ],
   "metadata": {
    "collapsed": false,
    "ExecuteTime": {
     "end_time": "2023-09-12T09:24:57.497663300Z",
     "start_time": "2023-09-12T09:24:57.347810700Z"
    }
   }
  },
  {
   "cell_type": "markdown",
   "source": [
    "直接通过存储的模型开始（需要重启内核）"
   ],
   "metadata": {
    "collapsed": false
   }
  },
  {
   "cell_type": "code",
   "execution_count": 1,
   "outputs": [],
   "source": [
    "from data import DataKyrgyz\n",
    "from classifier_draw import ClassifierDraw\n",
    "\n",
    "window = ClassifierDraw.load(DataKyrgyz.image_process)\n",
    "window.show()"
   ],
   "metadata": {
    "collapsed": false,
    "ExecuteTime": {
     "end_time": "2023-09-13T08:39:55.769457300Z",
     "start_time": "2023-09-13T08:32:16.648252800Z"
    }
   }
  }
 ],
 "metadata": {
  "kernelspec": {
   "display_name": "Python 3",
   "language": "python",
   "name": "python3"
  },
  "language_info": {
   "codemirror_mode": {
    "name": "ipython",
    "version": 2
   },
   "file_extension": ".py",
   "mimetype": "text/x-python",
   "name": "python",
   "nbconvert_exporter": "python",
   "pygments_lexer": "ipython2",
   "version": "2.7.6"
  }
 },
 "nbformat": 4,
 "nbformat_minor": 0
}
